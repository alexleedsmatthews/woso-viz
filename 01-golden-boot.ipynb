{
 "cells": [
  {
   "cell_type": "markdown",
   "id": "c4493128-d3a3-43ef-a00a-f8dd01a80157",
   "metadata": {},
   "source": [
    "### setup"
   ]
  },
  {
   "cell_type": "code",
   "execution_count": 1,
   "id": "a093732d-a4d1-45dd-a7d3-7ff7baa5a6cf",
   "metadata": {},
   "outputs": [],
   "source": [
    "import pandas as pd\n",
    "import requests\n",
    "#import pageviewapi\n",
    "#import datetime as dt\n",
    "from bs4 import BeautifulSoup\n",
    "import altair as alt"
   ]
  },
  {
   "cell_type": "code",
   "execution_count": 2,
   "id": "0929528e-d27f-4dae-8c44-9e95ac266f54",
   "metadata": {},
   "outputs": [],
   "source": [
    "pd.options.display.max_columns = 100\n",
    "pd.options.display.max_rows = 1000\n",
    "pd.options.display.max_colwidth = None"
   ]
  },
  {
   "cell_type": "code",
   "execution_count": 3,
   "id": "920c907b-36be-4d7b-bc89-bc088bd36191",
   "metadata": {},
   "outputs": [],
   "source": [
    "from urllib.request import urlopen\n"
   ]
  },
  {
   "cell_type": "code",
   "execution_count": 4,
   "id": "6b104b48-15e1-4f55-9536-11b80792c882",
   "metadata": {},
   "outputs": [],
   "source": [
    "URL='https://www.nwslsoccer.com/stats/players'"
   ]
  },
  {
   "cell_type": "code",
   "execution_count": 5,
   "id": "1b397aa3-1dd4-4c38-b7d1-4e42a4e92b2b",
   "metadata": {},
   "outputs": [],
   "source": [
    "from selenium.webdriver import Chrome\n",
    "from selenium import webdriver\n",
    "from webdriver_manager.chrome import ChromeDriverManager\n",
    "from selenium.webdriver.common.by import By\n",
    "from selenium.webdriver.chrome.service import Service\n",
    "from webdriver_manager.chrome import ChromeDriverManager"
   ]
  },
  {
   "cell_type": "code",
   "execution_count": 16,
   "id": "2382d828-8b57-4034-bbb7-93023782b730",
   "metadata": {},
   "outputs": [],
   "source": [
    "data_row=[]\n",
    "data_items=[]"
   ]
  },
  {
   "cell_type": "code",
   "execution_count": 17,
   "id": "f341efc4-3915-47c0-babe-79d1d6e812e1",
   "metadata": {},
   "outputs": [
    {
     "ename": "TypeError",
     "evalue": "'WebElement' object is not iterable",
     "output_type": "error",
     "traceback": [
      "\u001b[0;31m---------------------------------------------------------------------------\u001b[0m",
      "\u001b[0;31mTypeError\u001b[0m                                 Traceback (most recent call last)",
      "Input \u001b[0;32mIn [17]\u001b[0m, in \u001b[0;36m<cell line: 10>\u001b[0;34m()\u001b[0m\n\u001b[1;32m      7\u001b[0m \u001b[38;5;28;01mfor\u001b[39;00m row \u001b[38;5;129;01min\u001b[39;00m rows:\n\u001b[1;32m      8\u001b[0m     data_row\u001b[38;5;241m.\u001b[39mappend(row\u001b[38;5;241m.\u001b[39mtext)\n\u001b[0;32m---> 10\u001b[0m \u001b[38;5;28;01mfor\u001b[39;00m item \u001b[38;5;129;01min\u001b[39;00m items:\n\u001b[1;32m     11\u001b[0m     data_items\u001b[38;5;241m.\u001b[39mappend(item\u001b[38;5;241m.\u001b[39mtext)\n",
      "\u001b[0;31mTypeError\u001b[0m: 'WebElement' object is not iterable"
     ]
    }
   ],
   "source": [
    "driver = webdriver.Chrome(service=Service(ChromeDriverManager().install()))\n",
    "driver.get(URL)\n",
    "#table=driver.find_element(By.TAG_NAME,'table')\n",
    "rows=driver.find_elements(By.TAG_NAME, 'tr')\n",
    "items=driver.find_element(By.TAG_NAME, 'td')\n",
    "\n",
    "for row in rows:\n",
    "    data_row.append(row.text)\n",
    "    \n",
    "for item in items:\n",
    "    data_items.append(item.text)\n",
    "#table_text=(table.text)\n",
    "\n",
    "#elements=driver.find_elements('table')"
   ]
  },
  {
   "cell_type": "markdown",
   "id": "fa6aa26e-0611-4184-bd2b-c3cb2a4ca859",
   "metadata": {},
   "source": [
    "figured out who to get the content of the table, BUT need to figure out how to parse it "
   ]
  },
  {
   "cell_type": "code",
   "execution_count": null,
   "id": "584546af-0a16-4d39-98a0-30fb8865695e",
   "metadata": {},
   "outputs": [],
   "source": []
  }
 ],
 "metadata": {
  "kernelspec": {
   "display_name": "Python 3 (ipykernel)",
   "language": "python",
   "name": "python3"
  },
  "language_info": {
   "codemirror_mode": {
    "name": "ipython",
    "version": 3
   },
   "file_extension": ".py",
   "mimetype": "text/x-python",
   "name": "python",
   "nbconvert_exporter": "python",
   "pygments_lexer": "ipython3",
   "version": "3.9.13"
  }
 },
 "nbformat": 4,
 "nbformat_minor": 5
}
